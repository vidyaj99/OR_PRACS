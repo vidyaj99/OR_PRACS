{
  "nbformat": 4,
  "nbformat_minor": 0,
  "metadata": {
    "colab": {
      "name": "OR_PRAC 2.ipynb",
      "provenance": []
    },
    "kernelspec": {
      "name": "python3",
      "display_name": "Python 3"
    },
    "language_info": {
      "name": "python"
    }
  },
  "cells": [
    {
      "cell_type": "code",
      "execution_count": 3,
      "metadata": {
        "colab": {
          "base_uri": "https://localhost:8080/"
        },
        "id": "kKz57MEIdKwa",
        "outputId": "b39fa00a-8bd4-4803-9753-bf8ae8cc5d3a"
      },
      "outputs": [
        {
          "output_type": "execute_result",
          "data": {
            "text/plain": [
              "     con: array([], dtype=float64)\n",
              "     fun: -11.0\n",
              " message: 'Optimization terminated successfully.'\n",
              "     nit: 2\n",
              "   slack: array([0., 0.])\n",
              "  status: 0\n",
              " success: True\n",
              "       x: array([3., 1.])"
            ]
          },
          "metadata": {},
          "execution_count": 3
        }
      ],
      "source": [
        "from scipy.optimize import linprog\n",
        "obj = [-3,-2]\n",
        "\n",
        "lhs_ineq = [[1,1], [1,-1]]\n",
        "\n",
        "rhs_ineq = [4,2]\n",
        "\n",
        "bnd = [(0,float(\"inf\")),\n",
        "       (0,float(\"inf\"))]\n",
        "\n",
        "opt = linprog(c=obj, A_ub=lhs_ineq, b_ub=rhs_ineq, bounds=bnd, method=\"revised simplex\")\n",
        "opt"
      ]
    },
    {
      "cell_type": "code",
      "source": [
        "print(opt.fun)\n",
        "print(opt.success)\n",
        "print(opt.x)"
      ],
      "metadata": {
        "colab": {
          "base_uri": "https://localhost:8080/"
        },
        "id": "q7XzcTy8geOE",
        "outputId": "7fbd09a5-b049-4ed9-c9a7-3d619e60c498"
      },
      "execution_count": 4,
      "outputs": [
        {
          "output_type": "stream",
          "name": "stdout",
          "text": [
            "-11.0\n",
            "True\n",
            "[3. 1.]\n"
          ]
        }
      ]
    }
  ]
}