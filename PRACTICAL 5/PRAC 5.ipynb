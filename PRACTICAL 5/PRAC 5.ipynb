{
  "nbformat": 4,
  "nbformat_minor": 0,
  "metadata": {
    "colab": {
      "name": "OR_PRAC 5.ipynb",
      "provenance": []
    },
    "kernelspec": {
      "name": "python3",
      "display_name": "Python 3"
    },
    "language_info": {
      "name": "python"
    }
  },
  "cells": [
    {
      "cell_type": "code",
      "execution_count": 2,
      "metadata": {
        "colab": {
          "base_uri": "https://localhost:8080/"
        },
        "id": "SIJl6OnfiHEs",
        "outputId": "641d14d8-7020-4dc1-ddd6-cd423a39e79b"
      },
      "outputs": [
        {
          "output_type": "execute_result",
          "data": {
            "text/plain": [
              "     con: array([], dtype=float64)\n",
              "     fun: 4.999999999999998\n",
              " message: 'Optimization terminated successfully.'\n",
              "     nit: 3\n",
              "   slack: array([ 0., 10.])\n",
              "  status: 0\n",
              " success: True\n",
              "       x: array([-4.4408921e-16,  5.0000000e+00])"
            ]
          },
          "metadata": {},
          "execution_count": 2
        }
      ],
      "source": [
        "from scipy.optimize import linprog\n",
        "obj = [4,1]\n",
        "lhs_ineq = [[-3,-4], [-1,-5]]\n",
        "\n",
        "rhs_ineq = [-20,-15]\n",
        "\n",
        "bnd = [(0,float(\"inf\")),\n",
        "       (0,float(\"inf\"))]\n",
        "\n",
        "opt = linprog(c=obj, A_ub=lhs_ineq, b_ub=rhs_ineq, bounds=bnd, method=\"revised simplex\")\n",
        "opt"
      ]
    },
    {
      "cell_type": "code",
      "source": [
        "print(opt.fun)\n",
        "print(opt.success)\n",
        "print(opt.x)"
      ],
      "metadata": {
        "colab": {
          "base_uri": "https://localhost:8080/"
        },
        "id": "jxzMsLoHkxIl",
        "outputId": "e55df4be-f4af-45b6-e98b-db50b941bb42"
      },
      "execution_count": 3,
      "outputs": [
        {
          "output_type": "stream",
          "name": "stdout",
          "text": [
            "4.999999999999998\n",
            "True\n",
            "[-4.4408921e-16  5.0000000e+00]\n"
          ]
        }
      ]
    }
  ]
}