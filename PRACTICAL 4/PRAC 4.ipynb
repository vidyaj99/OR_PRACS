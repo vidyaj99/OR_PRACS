{
  "nbformat": 4,
  "nbformat_minor": 0,
  "metadata": {
    "colab": {
      "name": "OR_PRAC 4.ipynb",
      "provenance": []
    },
    "kernelspec": {
      "name": "python3",
      "display_name": "Python 3"
    },
    "language_info": {
      "name": "python"
    }
  },
  "cells": [
    {
      "cell_type": "code",
      "execution_count": 1,
      "metadata": {
        "colab": {
          "base_uri": "https://localhost:8080/"
        },
        "id": "ScoRdVdMmawk",
        "outputId": "879eb831-c824-4ad5-81de-2fc90f267a6b"
      },
      "outputs": [
        {
          "output_type": "execute_result",
          "data": {
            "text/plain": [
              "     con: array([0.])\n",
              "     fun: -16.818181818181817\n",
              " message: 'Optimization terminated successfully.'\n",
              "     nit: 3\n",
              "   slack: array([ 0.        , 18.18181818,  3.36363636])\n",
              "  status: 0\n",
              " success: True\n",
              "       x: array([7.72727273, 4.54545455])"
            ]
          },
          "metadata": {},
          "execution_count": 1
        }
      ],
      "source": [
        "from scipy.optimize import linprog\n",
        "obj = [-1,-2]\n",
        "\n",
        "lhs_ineq = [[2,1],[-4,5],[1,-2]]\n",
        "\n",
        "rhs_ineq = [20,10,2]\n",
        "\n",
        "lhs_eq = [[-1, 5]]\n",
        "rhs_eq = [15]\n",
        "\n",
        "bnd = [(0,float(\"inf\")),\n",
        "       (0,float(\"inf\"))]\n",
        "\n",
        "opt = linprog(c=obj, A_ub=lhs_ineq, b_ub=rhs_ineq, A_eq=lhs_eq, b_eq=rhs_eq, bounds=bnd, method=\"revised simplex\")\n",
        "opt"
      ]
    },
    {
      "cell_type": "code",
      "source": [
        "print(opt.fun)\n",
        "print(opt.success)\n",
        "print(opt.x)"
      ],
      "metadata": {
        "colab": {
          "base_uri": "https://localhost:8080/"
        },
        "id": "1Ci2xNsQoqku",
        "outputId": "e365e046-cda1-42c2-eff9-d84bbb95b6b6"
      },
      "execution_count": 2,
      "outputs": [
        {
          "output_type": "stream",
          "name": "stdout",
          "text": [
            "-16.818181818181817\n",
            "True\n",
            "[7.72727273 4.54545455]\n"
          ]
        }
      ]
    }
  ]
}