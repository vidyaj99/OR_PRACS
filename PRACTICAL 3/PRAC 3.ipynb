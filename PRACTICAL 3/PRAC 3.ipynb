{
  "nbformat": 4,
  "nbformat_minor": 0,
  "metadata": {
    "colab": {
      "name": "OR_PRAC 3.ipynb",
      "provenance": []
    },
    "kernelspec": {
      "name": "python3",
      "display_name": "Python 3"
    },
    "language_info": {
      "name": "python"
    }
  },
  "cells": [
    {
      "cell_type": "code",
      "execution_count": 1,
      "metadata": {
        "colab": {
          "base_uri": "https://localhost:8080/"
        },
        "id": "hXLAz-Ucgyba",
        "outputId": "b05238bc-1735-4f65-e54c-f9520da1c95d"
      },
      "outputs": [
        {
          "output_type": "execute_result",
          "data": {
            "text/plain": [
              "     con: array([], dtype=float64)\n",
              "     fun: -11.0\n",
              " message: 'Optimization terminated successfully.'\n",
              "     nit: 2\n",
              "   slack: array([ 0.,  0., 11.])\n",
              "  status: 0\n",
              " success: True\n",
              "       x: array([4., 5., 0.])"
            ]
          },
          "metadata": {},
          "execution_count": 1
        }
      ],
      "source": [
        "from scipy.optimize import linprog\n",
        "obj = [1,-3,2]\n",
        "\n",
        "lhs_ineq = [[2,1],[-4,5],[1,-2]]\n",
        "\n",
        "rhs_ineq = [7,12,10]\n",
        "\n",
        "bnd = [(0,float(\"inf\")),\n",
        "       (0,float(\"inf\")),\n",
        "       (0,float(\"inf\"))]\n",
        "\n",
        "opt = linprog(c=obj, A_ub=lhs_ineq, b_ub=rhs_ineq, bounds=bnd, method=\"revised simplex\")\n",
        "opt"
      ]
    },
    {
      "cell_type": "code",
      "source": [
        "print(opt.fun)\n",
        "print(opt.success)\n",
        "print(opt.x)"
      ],
      "metadata": {
        "colab": {
          "base_uri": "https://localhost:8080/"
        },
        "id": "cZ9YOt42k84B",
        "outputId": "7c08b1ea-9390-4267-fc2e-11af0964c097"
      },
      "execution_count": 2,
      "outputs": [
        {
          "output_type": "stream",
          "name": "stdout",
          "text": [
            "-11.0\n",
            "True\n",
            "[4. 5. 0.]\n"
          ]
        }
      ]
    }
  ]
}