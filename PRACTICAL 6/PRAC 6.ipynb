{
  "nbformat": 4,
  "nbformat_minor": 0,
  "metadata": {
    "colab": {
      "name": "OR_PRAC 6.ipynb",
      "provenance": []
    },
    "kernelspec": {
      "name": "python3",
      "display_name": "Python 3"
    },
    "language_info": {
      "name": "python"
    }
  },
  "cells": [
    {
      "cell_type": "code",
      "execution_count": 1,
      "metadata": {
        "colab": {
          "base_uri": "https://localhost:8080/"
        },
        "id": "9VHRjQ9Blxwk",
        "outputId": "7b10e0cf-2558-4597-f607-80cae7f8492b"
      },
      "outputs": [
        {
          "output_type": "execute_result",
          "data": {
            "text/plain": [
              "     con: array([], dtype=float64)\n",
              "     fun: -1900.0\n",
              " message: 'Optimization terminated successfully.'\n",
              "     nit: 2\n",
              "   slack: array([ 0., 40.,  0.])\n",
              "  status: 0\n",
              " success: True\n",
              "       x: array([ 5.,  0., 45.,  0.])"
            ]
          },
          "metadata": {},
          "execution_count": 1
        }
      ],
      "source": [
        "from scipy.optimize import linprog\n",
        "obj = [-20,-12,-40,-25]\n",
        "lhs_ineq = [[1,1,1,1], [3,2,1,0],[0,1,2,3]]\n",
        "\n",
        "rhs_ineq = [50,100,90]\n",
        "\n",
        "opt = linprog(c=obj, A_ub=lhs_ineq, b_ub=rhs_ineq, method=\"revised simplex\")\n",
        "opt"
      ]
    },
    {
      "cell_type": "code",
      "source": [
        ""
      ],
      "metadata": {
        "id": "_xMMxe6LoT8g"
      },
      "execution_count": null,
      "outputs": []
    }
  ]
}